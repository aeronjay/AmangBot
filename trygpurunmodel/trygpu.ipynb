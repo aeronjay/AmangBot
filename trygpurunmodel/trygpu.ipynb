{
 "cells": [
  {
   "cell_type": "markdown",
   "id": "d58e414d",
   "metadata": {},
   "source": [
    "# Testing multi-qa-mpnet-base-dot-v1 on GPU\n",
    "\n",
    "This notebook tests the `sentence-transformers/multi-qa-mpnet-base-dot-v1` model on your GPU."
   ]
  },
  {
   "cell_type": "code",
   "execution_count": 2,
   "id": "dfcb18fa",
   "metadata": {},
   "outputs": [
    {
     "name": "stdout",
     "output_type": "stream",
     "text": [
      "PyTorch version: 2.9.0+cu128\n",
      "CUDA available: True\n",
      "CUDA version: 12.8\n",
      "GPU device: NVIDIA GeForce RTX 5050 Laptop GPU\n",
      "GPU count: 1\n",
      "PyTorch version: 2.9.0+cu128\n",
      "CUDA version: 12.8\n",
      "CUDA available: True\n"
     ]
    }
   ],
   "source": [
    "# Check if GPU is available\n",
    "import torch\n",
    "\n",
    "print(f\"PyTorch version: {torch.__version__}\")\n",
    "print(f\"CUDA available: {torch.cuda.is_available()}\")\n",
    "if torch.cuda.is_available():\n",
    "    print(f\"CUDA version: {torch.version.cuda}\")\n",
    "    print(f\"GPU device: {torch.cuda.get_device_name(0)}\")\n",
    "    print(f\"GPU count: {torch.cuda.device_count()}\")\n",
    "\n",
    "    print(\"PyTorch version:\", torch.__version__)\n",
    "    print(\"CUDA version:\", torch.version.cuda)\n",
    "    print(\"CUDA available:\", torch.cuda.is_available())\n",
    "else:\n",
    "    print(\"No GPU available - will run on CPU\")"
   ]
  },
  {
   "cell_type": "code",
   "execution_count": 1,
   "id": "03205a02",
   "metadata": {},
   "outputs": [
    {
     "name": "stdout",
     "output_type": "stream",
     "text": [
      "asda\n"
     ]
    }
   ],
   "source": [
    "print(\"asda\")"
   ]
  },
  {
   "cell_type": "code",
   "execution_count": 4,
   "id": "52f96c21",
   "metadata": {},
   "outputs": [
    {
     "name": "stderr",
     "output_type": "stream",
     "text": [
      "c:\\Users\\tebats\\AppData\\Local\\Programs\\Python\\Python312\\Lib\\site-packages\\tqdm\\auto.py:21: TqdmWarning: IProgress not found. Please update jupyter and ipywidgets. See https://ipywidgets.readthedocs.io/en/stable/user_install.html\n",
      "  from .autonotebook import tqdm as notebook_tqdm\n"
     ]
    },
    {
     "name": "stdout",
     "output_type": "stream",
     "text": [
      "Loading model: sentence-transformers/multi-qa-mpnet-base-dot-v1\n",
      "Model loaded on device: cuda\n",
      "Model loaded on device: cuda\n"
     ]
    }
   ],
   "source": [
    "# Load the model\n",
    "from sentence_transformers import SentenceTransformer\n",
    "\n",
    "model_name = 'sentence-transformers/multi-qa-mpnet-base-dot-v1'\n",
    "print(f\"Loading model: {model_name}\")\n",
    "\n",
    "# Load model and move to GPU if available\n",
    "device = 'cuda' if torch.cuda.is_available() else 'cpu'\n",
    "model = SentenceTransformer(model_name, device=device)\n",
    "\n",
    "print(f\"Model loaded on device: {device}\")"
   ]
  },
  {
   "cell_type": "code",
   "execution_count": 5,
   "id": "261e3cb8",
   "metadata": {},
   "outputs": [
    {
     "name": "stdout",
     "output_type": "stream",
     "text": [
      "Encoding queries...\n",
      "Encoding documents...\n",
      "\n",
      "Query embeddings shape: torch.Size([3, 768])\n",
      "Document embeddings shape: torch.Size([5, 768])\n",
      "Embeddings device: cuda:0\n",
      "Encoding documents...\n",
      "\n",
      "Query embeddings shape: torch.Size([3, 768])\n",
      "Document embeddings shape: torch.Size([5, 768])\n",
      "Embeddings device: cuda:0\n"
     ]
    }
   ],
   "source": [
    "# Test the model with sample queries and documents\n",
    "queries = [\n",
    "    \"What are the admission requirements?\",\n",
    "    \"How do I apply for a scholarship?\",\n",
    "    \"What is the tuition fee structure?\"\n",
    "]\n",
    "\n",
    "documents = [\n",
    "    \"The university requires a high school diploma and transcripts for admission. Students must also submit standardized test scores.\",\n",
    "    \"Scholarships are available based on academic merit and financial need. Applications must be submitted by March 1st each year.\",\n",
    "    \"Tuition fees vary by program. Undergraduate students pay $10,000 per semester, while graduate programs cost $15,000 per semester.\",\n",
    "    \"The library is open from 8 AM to 10 PM on weekdays and 9 AM to 5 PM on weekends.\",\n",
    "    \"Students can register for courses online through the student portal during the registration period.\"\n",
    "]\n",
    "\n",
    "print(\"Encoding queries...\")\n",
    "query_embeddings = model.encode(queries, convert_to_tensor=True)\n",
    "\n",
    "print(\"Encoding documents...\")\n",
    "document_embeddings = model.encode(documents, convert_to_tensor=True)\n",
    "\n",
    "print(f\"\\nQuery embeddings shape: {query_embeddings.shape}\")\n",
    "print(f\"Document embeddings shape: {document_embeddings.shape}\")\n",
    "print(f\"Embeddings device: {query_embeddings.device}\")"
   ]
  },
  {
   "cell_type": "code",
   "execution_count": null,
   "id": "7b0b2718",
   "metadata": {},
   "outputs": [],
   "source": [
    "# Calculate similarity scores using dot product (as the model name suggests)\n",
    "from sentence_transformers import util\n",
    "\n",
    "print(\"Computing similarity scores...\\n\")\n",
    "\n",
    "for i, query in enumerate(queries):\n",
    "    print(f\"Query: '{query}'\")\n",
    "    # Calculate dot product similarity\n",
    "    scores = util.dot_score(query_embeddings[i], document_embeddings)[0]\n",
    "    \n",
    "    # Get top 3 results\n",
    "    top_results = torch.topk(scores, k=min(3, len(documents)))\n",
    "    \n",
    "    print(\"Top matches:\")\n",
    "    for score, idx in zip(top_results.values, top_results.indices):\n",
    "        print(f\"  Score: {score:.4f} - {documents[idx][:80]}...\")\n",
    "    print()"
   ]
  },
  {
   "cell_type": "code",
   "execution_count": 6,
   "id": "8f2d004e",
   "metadata": {},
   "outputs": [
    {
     "name": "stdout",
     "output_type": "stream",
     "text": [
      "GPU memory allocated: 427.87 MB\n",
      "GPU memory reserved: 476.00 MB\n",
      "Max GPU memory allocated: 433.33 MB\n"
     ]
    }
   ],
   "source": [
    "# Check GPU memory usage\n",
    "if torch.cuda.is_available():\n",
    "    print(f\"GPU memory allocated: {torch.cuda.memory_allocated() / 1024**2:.2f} MB\")\n",
    "    print(f\"GPU memory reserved: {torch.cuda.memory_reserved() / 1024**2:.2f} MB\")\n",
    "    print(f\"Max GPU memory allocated: {torch.cuda.max_memory_allocated() / 1024**2:.2f} MB\")"
   ]
  }
 ],
 "metadata": {
  "kernelspec": {
   "display_name": "Python 3",
   "language": "python",
   "name": "python3"
  },
  "language_info": {
   "codemirror_mode": {
    "name": "ipython",
    "version": 3
   },
   "file_extension": ".py",
   "mimetype": "text/x-python",
   "name": "python",
   "nbconvert_exporter": "python",
   "pygments_lexer": "ipython3",
   "version": "3.12.10"
  }
 },
 "nbformat": 4,
 "nbformat_minor": 5
}
